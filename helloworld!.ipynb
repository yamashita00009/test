{
  "nbformat": 4,
  "nbformat_minor": 0,
  "metadata": {
    "colab": {
      "name": "helloworld!",
      "provenance": [],
      "authorship_tag": "ABX9TyMvzjCNfMsa/wrTSgbCcME7"
    },
    "kernelspec": {
      "name": "python3",
      "display_name": "Python 3"
    },
    "language_info": {
      "name": "python"
    }
  },
  "cells": [
    {
      "cell_type": "code",
      "metadata": {
        "colab": {
          "base_uri": "https://localhost:8080/"
        },
        "id": "Jyij7Sq4i3tQ",
        "outputId": "b4ad51d1-18bc-4181-d1b8-981a0b0bdbbe"
      },
      "source": [
        "print(\"Hello world!\")\n",
        "print(1 + 1)"
      ],
      "execution_count": 1,
      "outputs": [
        {
          "output_type": "stream",
          "text": [
            "Hello world!\n",
            "2\n"
          ],
          "name": "stdout"
        }
      ]
    }
  ]
}